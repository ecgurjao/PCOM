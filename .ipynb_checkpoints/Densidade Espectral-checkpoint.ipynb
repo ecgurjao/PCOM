{
 "cells": [
  {
   "cell_type": "markdown",
   "id": "adf05357",
   "metadata": {},
   "source": [
    "# Densidade Espectral"
   ]
  },
  {
   "cell_type": "markdown",
   "id": "181e6694",
   "metadata": {},
   "source": [
    "Um sinal $x(t)$ no tempo contínuo é definido como um *sinal de energia* se sua energia for limitada, ou seja\n",
    "$$ E_x = \\int_{-\\infty}^{\\infty}|x(t)|^2dt < \\infty$$\n",
    "\n",
    "Podemos escrever\n",
    "$$ E_x = \\int_{-\\infty}^{\\infty}x(t)x^*(t)dt = \\int_{-\\infty}^{\\infty}x(t)\\left(\\frac{1}{2\\pi}\\int_{-\\infty}^{\\infty}X(\\omega)e^{j\\omega t}d\\omega\\right)^*dt$$\n"
   ]
  },
  {
   "cell_type": "markdown",
   "id": "979a906c",
   "metadata": {},
   "source": [
    "$$= \\frac{1}{2\\pi}\\int_{-\\infty}^{\\infty}x(t)\\int_{-\\infty}^{\\infty}X^*(\\omega)e^{-j\\omega t}d\\omega dt = \\frac{1}{2\\pi}\\int_{-\\infty}^{\\infty}X^*(\\omega)\\int_{-\\infty}^{\\infty}x(t)e^{-j\\omega t}dtd\\omega$$"
   ]
  },
  {
   "cell_type": "markdown",
   "id": "59d14866",
   "metadata": {},
   "source": [
    "$$= \\frac{1}{2\\pi}\\int_{-\\infty}^{\\infty}X^*(\\omega)X(\\omega)d\\omega = \\frac{1}{2\\pi}\\int_{-\\infty}^{\\infty}|X(\\omega)|^2d\\omega$$"
   ]
  },
  {
   "cell_type": "markdown",
   "id": "ced9abfa",
   "metadata": {},
   "source": [
    "**Teorema de Parseval** Se $x(t)$ é um sinal no tempo contínuo de energia limtiada, então\n",
    "$$ E_x = \\int_{-\\infty}^{\\infty}|x(t)|^2dt < \\infty = \\frac{1}{2\\pi}\\int_{-\\infty}^{\\infty}|X(\\omega)|^2d\\omega$$"
   ]
  },
  {
   "cell_type": "markdown",
   "id": "09402575",
   "metadata": {},
   "source": [
    "**Densidade Espectral de\n",
    "        Energia** de $x(t)$, ou seja\n",
    "$$\n",
    "\\Phi_x(\\omega) = \\mid X(\\omega)\\mid^2 \\ \\ e\\ \\ E_x = \\frac{1}{2\\pi}\\int_{-\\infty}^{\\infty}\n",
    "        \\Phi_x(\\omega)d\\omega\n",
    "$$"
   ]
  },
  {
   "cell_type": "markdown",
   "id": "c38e5e79",
   "metadata": {},
   "source": [
    "Tendo unidade Joule/Rad/s."
   ]
  },
  {
   "cell_type": "markdown",
   "id": "ecf40075",
   "metadata": {},
   "source": [
    "**Exemplo:** Seja $g(t) = e^{-at}u(t)$ $a>0$,  determinar a energia de $g(t)$.\n",
    "\\begin{eqnarray}\n",
    "E_g = \\int_{-\\infty}^{\\infty}\\mid g(t)\\mid^{2}dt = \\int_{0}^{\\infty} e^{-2at}dt = -\\frac{1}{2a}e^{-2at}\\mid_{0}^{\\infty} \\nonumber = \\frac{1}{2a} \\nonumber\n",
    "\\end{eqnarray}\n",
    "Agora, seja a transformada de Fourier de $g(t)$ dada por $G(\\omega) = \\frac{1}{j\\omega +a}$\n",
    "então\n",
    "\\begin{eqnarray}\n",
    "        E_g &=& \\frac{1}{2\\pi}\\int_{-\\infty}^{\\infty}\\mid\n",
    "        G(\\omega)\\mid^{2}d\\omega = \\frac{1}{2\\pi}\\int_{-\\infty}^{\\infty}\\frac{1}{a^2 +\n",
    "          \\omega^2}d\\omega \\nonumber \\\\\n",
    "        &=& \\frac{1}{2\\pi\n",
    "          a}\\tan^{-1}\\frac{\\omega}{a}\\mid_{'\\infty}^{\\infty} = \\frac{1}{2a} \\nonumber\n",
    "\\end{eqnarray}"
   ]
  },
  {
   "cell_type": "markdown",
   "id": "70dc3ffc",
   "metadata": {},
   "source": [
    "**Exemplo** Calcule a DEE do sinal\n",
    "$$x(t) = \\frac{2\\alpha}{\\alpha^2 + t^2}.$$\n",
    "\n",
    "Pela propriedade de dualidade\n",
    "$$ e^{-\\alpha|t|} \\leftrightarrow \\frac{2\\alpha}{\\alpha^2 + \\omega^2}$$\n",
    "logo\n",
    "$$\\frac{2\\alpha}{\\alpha^2 + t^2} \\leftrightarrow 2\\pi e^{-\\alpha|+\\omega|}.$$\n",
    "\n",
    "logo $\\Phi_x(\\omega) = (2\\pi)^2 e^{-2\\alpha|\\omega|}$"
   ]
  },
  {
   "cell_type": "markdown",
   "id": "7c168b7f",
   "metadata": {},
   "source": [
    "**Exemplo** Calcule a largura de faixa W com 95% da energia do sinal $x(t)$ do exemplo anterior.\n",
    "\n",
    "$$E_x = 0,95E_W$$\n",
    "$$ \\frac{1}{2\\pi}\\int_{-W}^{W}|X(\\omega)|^2d\\omega = \\frac{0,95}{2\\pi}\\int_{-\\infty}^{\\infty}|X(\\omega)|^2d\\omega$$\n",
    "Finalizar"
   ]
  },
  {
   "cell_type": "markdown",
   "id": "6171380d",
   "metadata": {},
   "source": [
    "## Função de autocorrelação no tempo e densidade espectral de energia\n",
    "\n",
    "Vamos mostrar que a DEE é a transformada de Fourier da função de autocorrelação no tempo. Para isso, definimos a \n",
    "autocorrelação no tempo de um sinal $x(t)$ como\n",
    "$$\n",
    "R_x(\\tau) = \\int_{-\\infty}^{\\infty}x^*(t)x(t+\\tau)dt.\n",
    "$$\n",
    "\n",
    "Aplicando a transformada de Fourier\n",
    "\\begin{equation}\n",
    "\\mathcal{F}[R_x(\\tau)] = |X(\\omega)|^2 = \\Phi_x(\\omega)\n",
    "\\end{equation}"
   ]
  },
  {
   "cell_type": "code",
   "execution_count": null,
   "id": "d3b14f93",
   "metadata": {},
   "outputs": [],
   "source": []
  }
 ],
 "metadata": {
  "kernelspec": {
   "display_name": "Python 3 (ipykernel)",
   "language": "python",
   "name": "python3"
  },
  "language_info": {
   "codemirror_mode": {
    "name": "ipython",
    "version": 3
   },
   "file_extension": ".py",
   "mimetype": "text/x-python",
   "name": "python",
   "nbconvert_exporter": "python",
   "pygments_lexer": "ipython3",
   "version": "3.9.6"
  }
 },
 "nbformat": 4,
 "nbformat_minor": 5
}
